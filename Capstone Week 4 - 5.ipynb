{
    "cells": [
        {
            "metadata": {
                "collapsed": true
            },
            "cell_type": "markdown",
            "source": "# <font color='black'>Finding a new location to open up a store based on numbers of competitors in the surrounding area.\n\nData: FourSq location category & Edmonton neighborhods from Wikipedia\n\nGoal with data:To find a location that isn't already serviced by a competitor. \n\nAnalysis:<font color='red'> Do this part after Habib \n\n</font> "
        },
        {
            "metadata": {},
            "cell_type": "markdown",
            "source": "#### Doing all the imports I'll probably need & FourSq Url "
        },
        {
            "metadata": {},
            "cell_type": "code",
            "source": "#imports\n\nimport pandas as pd\nimport numpy as np\n\n# tranforming json file into a pandas dataframe library\nfrom pandas.io.json import json_normalize\n\n!conda install -c conda-forge geopy --yes # uncomment this line if you haven't completed the Foursquare API lab\nfrom geopy.geocoders import Nominatim\n\nimport json # library to handle JSON files\n\nfrom geopy.geocoders import Nominatim # convert an address into latitude and longitude values\n\nimport requests # library to handle requests\nfrom pandas.io.json import json_normalize # tranform JSON file into a pandas dataframe\n\n# Matplotlib and associated plotting modules\nimport matplotlib.cm as cm\nimport matplotlib.colors as colors\n\n\n!pip install folium\nimport folium # map rendering library\n\n#foursquare creds\n\nCLIENT_ID = 'SVWMBH0OWIQRNMZEWTZUQJLGHZYUNZRF3TBKC3DP54KX4RTL' # your Foursquare ID\nCLIENT_SECRET = 'GBTTM3VQTDMD1RLXKEFVFEJ3WDF4CBQ2I4VPCC5ZIIS5VJG0' # your Foursquare Secret\nACCESS_TOKEN = '22WYCF4PF4XC4JMZ1TKP5MEEBY4USVFON33IFKQEVJHPMYW2' # your FourSquare Access Token\nVERSION = '20180605' # Foursquare API version\nLIMIT = 100 # A default Foursquare API limit value\n# create URL",
            "execution_count": null,
            "outputs": [
                {
                    "output_type": "stream",
                    "text": "Collecting package metadata (current_repodata.json): | ",
                    "name": "stdout"
                }
            ]
        },
        {
            "metadata": {},
            "cell_type": "markdown",
            "source": "### Code"
        },
        {
            "metadata": {},
            "cell_type": "markdown",
            "source": "In this scenario, I have new entrepreneur that is willing to venture off on their own to start their own recruitment angecy. They've spent years in the industry and now want to be their own boss. They are trying to find the ideal location to start and they are seeking a location that doesn't have too much competition.\n\nEdmonton is surrounded by Highway 216. Our entreprenur wants to be within this circle as that is considered core Edmonton. However, he also does not want to set up shop next to any competitors.\n\nThe goal is to find neighborhoods that are don't have a competitor within radius xM. \n\nI've been tasked with finding an area that they can set up shop in. \nTo ensure viability of my data, we will be removing all boroughs & neighborhoods that have no data. This is so our new entrepreneur has data to back his decision. "
        },
        {
            "metadata": {},
            "cell_type": "code",
            "source": "#Setting my location\n\nLocation = 'Edmonton, Alberta'\n\n#Creating dataframe for Edmonton Neighborhoods\n\nwebsite_url = requests.get('https://en.wikipedia.org/wiki/List_of_postal_codes_of_Canada:_T').text\n\nfrom bs4 import BeautifulSoup\nsoup = BeautifulSoup(website_url,'lxml')\nMy_table = soup.find('table',{'class':'wikitable sortable'})\nEdmonton=pd.read_html(str(My_table))\n#convert table to dataframe\nEdmonton=pd.DataFrame(Edmonton[0])\n#drop non assigned boroughs to ensure we do not have NaN values & index column from wiki\nEdmonton.drop((Edmonton[Edmonton['Borough']=='Not assigned'].index), inplace = True)\nEdmonton.drop((Edmonton[Edmonton['Borough']!='Edmonton'].index), inplace = True)\nEdmonton.reset_index(drop=True, inplace = True)\n#Checking head of my data table\n\nEdmonton.head()",
            "execution_count": null,
            "outputs": []
        },
        {
            "metadata": {},
            "cell_type": "markdown",
            "source": "Dataframe of our competitors"
        },
        {
            "metadata": {
                "scrolled": true
            },
            "cell_type": "code",
            "source": "#Creating a dataframe of our competitors using FourSQ\n\nsearch_query = 'Recruit'\naddress = 'Edmonton, AB'\ngeolocator = Nominatim(user_agent=\"Edm-agent\")\nlocation = geolocator.geocode(address)\nlatitude = location.latitude\nlongitude = location.longitude\nprint(search_query + ' .... OK!')\n\n#Defining the url\n\nurl = 'https://api.foursquare.com/v2/venues/search?client_id={}&client_secret={}&near={},{}&oauth_token={}&v={}&query={}&limit={}'.format(CLIENT_ID, CLIENT_SECRET, latitude, longitude,ACCESS_TOKEN, VERSION, search_query, LIMIT)\nurl\n",
            "execution_count": null,
            "outputs": []
        },
        {
            "metadata": {},
            "cell_type": "code",
            "source": "results = requests.get(url).json()\nresults\n# assign relevant part of JSON to competition\ncompetitorsdata = results['response']['venues']\n\n# tranform venues into a dataframe\ncompetitors = json_normalize(competitorsdata)\ncompetitors.head()",
            "execution_count": null,
            "outputs": []
        },
        {
            "metadata": {},
            "cell_type": "code",
            "source": "#Filter the dataframe, keep only columns that include venue, name, and anything that is associated with location\nfiltered_columns = ['name', 'categories'] + [col for col in competitors.columns if col.startswith('location.')] + ['id']\ncompetitors_data = competitors.loc[:, filtered_columns]\n\n# function that extracts the category of the venue\ndef get_category_type(row):\n    try:\n        categories_list = row['categories']\n    except:\n        categories_list = row['venue.categories']\n        \n    if len(categories_list) == 0:\n        return None\n    else:\n        return categories_list[0]['name']\n\n# filter the category for each row\ncompetitors_data['categories'] = competitors_data.apply(get_category_type, axis=1)\n\n# clean column names by keeping only last term\ncompetitors_data.columns = [column.split('.')[-1] for column in competitors_data.columns]\ncompetitors_data = competitors_data.rename(columns={'postalCode':'Postal Code'})\ncompetitors_data",
            "execution_count": null,
            "outputs": []
        },
        {
            "metadata": {},
            "cell_type": "code",
            "source": "competitors_data.shape",
            "execution_count": null,
            "outputs": []
        },
        {
            "metadata": {},
            "cell_type": "markdown",
            "source": "this section, we will create the map of Edmonton & add in markers for our competitors"
        },
        {
            "metadata": {},
            "cell_type": "code",
            "source": "#Getting address for Edmonton\naddress = 'Edmonton, AB'\n\ngeolocator = Nominatim(user_agent=\"Edm_explorer\")\nlocation = geolocator.geocode(address)\nlatitude = location.latitude\nlongitude = location.longitude\nprint('The geograpical coordinate of Edmonton are {}, {}.'.format(latitude, longitude))",
            "execution_count": null,
            "outputs": []
        },
        {
            "metadata": {
                "scrolled": true
            },
            "cell_type": "code",
            "source": "map_Edmonton = folium.Map(location=[latitude, longitude], zoom_start=10)\nmap_Edmonton",
            "execution_count": null,
            "outputs": []
        },
        {
            "metadata": {},
            "cell_type": "code",
            "source": "#adding competitors to map\n\nfor lat, lng, name in zip(competitors_data['lat'],competitors_data['lng'],competitors_data['name']):\n    label = '{}'.format(name)\n    label = folium.Popup(label, parse_html=True)\n    folium.CircleMarker(\n        [lat, lng],\n        radius=50,\n        popup=label,\n        color='blue',\n        fill=True,\n        fill_color='#3186cc',\n        fill_opacity=0.7,\n        parse_html=False).add_to(map_Edmonton) \nmap_Edmonton",
            "execution_count": null,
            "outputs": []
        },
        {
            "metadata": {},
            "cell_type": "markdown",
            "source": "Now that we have a map of our competitors, we can combine our Edmonton data & competitors data to find the neighborhoods/boroughs in Edmonton that aren't in the 50M radius of each competitor. First, we have to find the difference between the Edmonton table & the Competitors table. That will give us all the locations that aren't in the same area as the competitors. "
        },
        {
            "metadata": {},
            "cell_type": "code",
            "source": "#Using Merge to find Edmonton Boroughs that do not contain competitors\n#Also dropping Southindustrial Neighborhood as it has no Lat/Long data. \n#Dropping NaN columns as we do not need them. \n#Renaming Latitude & Longtitugde to lat & lng\n\nouterhoods = Edmonton.merge(competitors_data, on='Postal Code', how='left', indicator=True)\nouterhoods = outerhoods[outerhoods.Neighborhood != 'South Industrial']\nouterhoods = outerhoods.drop(['categories','address','lat','lng','labeledLatLngs','cc','city','state','country','formattedAddress','crossStreet','id'], axis = 1)\nouterhoods = outerhoods.rename(columns={'Latitude':'lat','Longitude':'lng'})\nouterhoods['name'].fillna('Free', inplace=True)\nouterhoods",
            "execution_count": null,
            "outputs": []
        },
        {
            "metadata": {},
            "cell_type": "code",
            "source": "#Adding outerhoods to Edmonton Map\n\nfor lat, lng, name in zip(outerhoods['lat'],outerhoods['lng'],outerhoods['name']):\n    label = '{}'.format(name)\n    label = folium.Popup(label, parse_html=True)\n    folium.CircleMarker(\n        [lat, lng],\n        radius=50,\n        popup=label,\n        color='red',\n        fill=True,\n        fill_color='#FF0000',\n        fill_opacity=0.7,\n        parse_html=False).add_to(map_Edmonton) \nmap_Edmonton",
            "execution_count": null,
            "outputs": []
        },
        {
            "metadata": {},
            "cell_type": "code",
            "source": "",
            "execution_count": null,
            "outputs": []
        },
        {
            "metadata": {},
            "cell_type": "code",
            "source": "",
            "execution_count": null,
            "outputs": []
        }
    ],
    "metadata": {
        "kernelspec": {
            "name": "python3",
            "display_name": "Python 3.7",
            "language": "python"
        },
        "language_info": {
            "name": "python",
            "version": "3.7.10",
            "mimetype": "text/x-python",
            "codemirror_mode": {
                "name": "ipython",
                "version": 3
            },
            "pygments_lexer": "ipython3",
            "nbconvert_exporter": "python",
            "file_extension": ".py"
        }
    },
    "nbformat": 4,
    "nbformat_minor": 1
}